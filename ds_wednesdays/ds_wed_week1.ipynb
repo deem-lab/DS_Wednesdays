{
 "cells": [
  {
   "cell_type": "markdown",
   "metadata": {},
   "source": [
    "## Week 1\n",
    "\n",
    "Creating an environment in VSCode"
   ]
  },
  {
   "cell_type": "markdown",
   "metadata": {},
   "source": [
    "## GOALS: \n",
    "(1) Set up your developer environment (IDE) \\\n",
    "        -Download and install Anaconda Distribution (includes Python) \\\n",
    "        -Download and install VScode"
   ]
  },
  {
   "cell_type": "markdown",
   "metadata": {},
   "source": [
    "## TIPS and TRICKS\n",
    "CONDA cheatsheet: \\\n",
    "https://docs.conda.io/projects/conda/en/4.6.0/_downloads/52a95608c49671267e40c689e0bc00ca/conda-cheatsheet.pdf\n",
    "\n",
    "Opening the terminal window within VSC: \\\n",
    "A key reason why VSC is preferred is the integration of the terminal window. \n",
    "\n",
    "    command + J \n",
    "\n",
    "Importing Packages and Documentation: \\\n",
    "Not everthing we will use is readily available in Python. Sometimes, we'll need to import packages, which are assemblies of functions or additional data types. Once you have the command window, you can install any missing packages/libraries you need for your code using:\n",
    "\n",
    "    pip install \\\n",
    "    conda install\n"
   ]
  },
  {
   "cell_type": "markdown",
   "metadata": {},
   "source": [
    "Let's practice importing the following packages to flush out your new environment"
   ]
  },
  {
   "cell_type": "code",
   "execution_count": null,
   "metadata": {},
   "outputs": [],
   "source": [
    "# Example FIRST CELL\n",
    "\n",
    "%matplotlib inline\n",
    "\n",
    "from tdt import read_block\n",
    "import numpy as np\n",
    "from numpy import savetxt\n",
    "from numpy import stack\n",
    "import matplotlib.pyplot as plt\n",
    "import os\n",
    "import statistics\n",
    "import scipy \n",
    "from scipy.io import savemat"
   ]
  }
 ],
 "metadata": {
  "interpreter": {
   "hash": "34c35c6ee1f3ade7f866ae8f3e2095006d3c92b256b00eefdc2a668cd508344c"
  },
  "kernelspec": {
   "display_name": "Python 3.6.13 ('assembly')",
   "language": "python",
   "name": "python3"
  },
  "language_info": {
   "codemirror_mode": {
    "name": "ipython",
    "version": 3
   },
   "file_extension": ".py",
   "mimetype": "text/x-python",
   "name": "python",
   "nbconvert_exporter": "python",
   "pygments_lexer": "ipython3",
   "version": "3.6.13"
  },
  "orig_nbformat": 4
 },
 "nbformat": 4,
 "nbformat_minor": 2
}
